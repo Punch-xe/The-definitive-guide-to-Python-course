{
 "cells": [
  {
   "cell_type": "code",
   "execution_count": 2,
   "metadata": {},
   "outputs": [
    {
     "name": "stdout",
     "output_type": "stream",
     "text": [
      "Indeed, true\n",
      "3 greater than 2\n"
     ]
    }
   ],
   "source": [
    "if True:\n",
    "    print('Indeed, true')\n",
    "if 3>2 :\n",
    "    print('3 greater than 2')\n",
    "if 3<2 :\n",
    "    print('3 is less than 2')"
   ]
  },
  {
   "cell_type": "code",
   "execution_count": 3,
   "metadata": {},
   "outputs": [
    {
     "name": "stdout",
     "output_type": "stream",
     "text": [
      "It's admin, look at him!\n"
     ]
    }
   ],
   "source": [
    "is_admin = True\n",
    "if is_admin:\n",
    "    print(\"It's admin, look at him!\")"
   ]
  },
  {
   "cell_type": "code",
   "execution_count": 5,
   "metadata": {},
   "outputs": [
    {
     "name": "stdout",
     "output_type": "stream",
     "text": [
      "Orcs\n",
      "Hmm...it seems we have a new race\n"
     ]
    }
   ],
   "source": [
    "selected_character = input()\n",
    "if selected_character == 'Protos':\n",
    "    print('Protos is the most powerfull race')\n",
    "elif selected_character == 'Zerg':\n",
    "    print('Zerg is the most weak race, but it spreads like a plague')\n",
    "elif selected_character == 'Terrain':\n",
    "    print('Terrain is most balaced race')\n",
    "else:\n",
    "    print('Hmm...it seems we have a new race')"
   ]
  },
  {
   "cell_type": "code",
   "execution_count": null,
   "metadata": {},
   "outputs": [],
   "source": []
  }
 ],
 "metadata": {
  "kernelspec": {
   "display_name": "Python 3",
   "language": "python",
   "name": "python3"
  },
  "language_info": {
   "codemirror_mode": {
    "name": "ipython",
    "version": 3
   },
   "file_extension": ".py",
   "mimetype": "text/x-python",
   "name": "python",
   "nbconvert_exporter": "python",
   "pygments_lexer": "ipython3",
   "version": "3.8.5"
  }
 },
 "nbformat": 4,
 "nbformat_minor": 4
}
