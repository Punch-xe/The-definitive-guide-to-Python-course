{
 "cells": [
  {
   "cell_type": "code",
   "execution_count": 1,
   "metadata": {},
   "outputs": [],
   "source": [
    "int_list = [1,2,3]"
   ]
  },
  {
   "cell_type": "code",
   "execution_count": 2,
   "metadata": {},
   "outputs": [],
   "source": [
    "mixed_list = [1,2.0, 'string']"
   ]
  },
  {
   "cell_type": "code",
   "execution_count": 3,
   "metadata": {},
   "outputs": [
    {
     "name": "stdout",
     "output_type": "stream",
     "text": [
      "string\n"
     ]
    },
    {
     "data": {
      "text/plain": [
       "3"
      ]
     },
     "execution_count": 3,
     "metadata": {},
     "output_type": "execute_result"
    }
   ],
   "source": [
    "print(mixed_list[-1])\n",
    "len(mixed_list)\n"
   ]
  },
  {
   "cell_type": "code",
   "execution_count": 4,
   "metadata": {},
   "outputs": [
    {
     "name": "stdout",
     "output_type": "stream",
     "text": [
      "[2.0, 'string']\n"
     ]
    }
   ],
   "source": [
    "print(mixed_list[1:])"
   ]
  },
  {
   "cell_type": "code",
   "execution_count": 5,
   "metadata": {},
   "outputs": [
    {
     "name": "stdout",
     "output_type": "stream",
     "text": [
      "['John', 'Alice', 'Bob', 'Mason', 'Elijah', 'Tracy']\n"
     ]
    }
   ],
   "source": [
    "names1 = ['John', 'Alice', 'Bob']\n",
    "names2 = ['Mason', 'Elijah', 'Tracy']\n",
    "names_combined = names1 + names2\n",
    "print(names_combined)"
   ]
  },
  {
   "cell_type": "code",
   "execution_count": 6,
   "metadata": {},
   "outputs": [
    {
     "name": "stdout",
     "output_type": "stream",
     "text": [
      "['William', 'Alice', 'Bob', 'Mason', 'Elijah', 'Tracy']\n"
     ]
    }
   ],
   "source": [
    "names_combined[0] = 'William'\n",
    "print(names_combined)"
   ]
  },
  {
   "cell_type": "code",
   "execution_count": 7,
   "metadata": {},
   "outputs": [
    {
     "name": "stdout",
     "output_type": "stream",
     "text": [
      "['William', 'Alice', 'Bob', 'Mason', 'Elijah', 'Tracy', 'Johua', 'Andrei']\n"
     ]
    }
   ],
   "source": [
    "names_combined.append('Johua')\n",
    "names_combined.append('Andrei')\n",
    "print(names_combined)"
   ]
  },
  {
   "cell_type": "code",
   "execution_count": 8,
   "metadata": {},
   "outputs": [
    {
     "name": "stdout",
     "output_type": "stream",
     "text": [
      "Andrei\n",
      "['William', 'Alice', 'Bob', 'Mason', 'Elijah', 'Tracy', 'Johua']\n"
     ]
    }
   ],
   "source": [
    "poped = names_combined.pop()\n",
    "print(poped)\n",
    "print(names_combined)"
   ]
  },
  {
   "cell_type": "code",
   "execution_count": 9,
   "metadata": {},
   "outputs": [
    {
     "name": "stdout",
     "output_type": "stream",
     "text": [
      "Alice\n",
      "['William', 'Bob', 'Mason', 'Elijah', 'Tracy', 'Johua']\n"
     ]
    }
   ],
   "source": [
    "poped2 = names_combined.pop(1)\n",
    "print(poped2)\n",
    "print(names_combined)"
   ]
  },
  {
   "cell_type": "code",
   "execution_count": 10,
   "metadata": {},
   "outputs": [
    {
     "name": "stdout",
     "output_type": "stream",
     "text": [
      "['Bob', 'Elijah', 'James', 'Johua', 'Mason', 'Tracy', 'William']\n"
     ]
    }
   ],
   "source": [
    "names_combined.append('James')\n",
    "names_combined.sort()\n",
    "print(names_combined)"
   ]
  },
  {
   "cell_type": "code",
   "execution_count": 12,
   "metadata": {},
   "outputs": [
    {
     "name": "stdout",
     "output_type": "stream",
     "text": [
      "['aa', 'ab', 'ac']\n"
     ]
    }
   ],
   "source": [
    "letters = ['ac', 'aa', 'ab']\n",
    "letters.sort()\n",
    "print(letters)"
   ]
  },
  {
   "cell_type": "code",
   "execution_count": 17,
   "metadata": {},
   "outputs": [
    {
     "name": "stdout",
     "output_type": "stream",
     "text": [
      "['bc', 'aaca', 'kdadsc', ' xydasdasz']\n"
     ]
    }
   ],
   "source": [
    "letters1 = ['bc', 'aaca', 'kdadsc',' xydasdasz']\n",
    "letters1.sort(key=len)\n",
    "print(letters1)"
   ]
  },
  {
   "cell_type": "code",
   "execution_count": 20,
   "metadata": {},
   "outputs": [
    {
     "name": "stdout",
     "output_type": "stream",
     "text": [
      "[321, 434, 43242, 9989, 312312, 123123, 87438, 2]\n",
      "[2, 321, 434, 9989, 43242, 87438, 123123, 312312]\n"
     ]
    }
   ],
   "source": [
    "numbers = [321, 434, 43242, 9989, 312312, 123123, 87438, 2]\n",
    "print(numbers)\n",
    "numbers.sort()\n",
    "print(numbers)"
   ]
  },
  {
   "cell_type": "code",
   "execution_count": 31,
   "metadata": {},
   "outputs": [
    {
     "name": "stdout",
     "output_type": "stream",
     "text": [
      "[312, 3123123, 4343, 5454, 2]\n",
      "[2, 5454, 4343, 3123123, 312]\n",
      "[3123123, 5454, 4343, 312, 2]\n",
      "[3123123, 22, 5454, 4343, 312, 2]\n",
      "1\n",
      "[3123123, 22, 5454, 4343, 312, 2]\n",
      "[]\n"
     ]
    }
   ],
   "source": [
    "numbers1 = [312, 3123123, 4343, 5454, 2]\n",
    "print(numbers1)\n",
    "numbers1.reverse()\n",
    "print(numbers1)\n",
    "numbers1.sort(reverse=True)\n",
    "print(numbers1)\n",
    "numbers1.insert(1,22)\n",
    "print(numbers1)\n",
    "numbers1.index(2)\n",
    "print(numbers1.count(2))\n",
    "copy = numbers1.copy()\n",
    "print(copy)\n",
    "copy.clear()\n",
    "print(copy)"
   ]
  },
  {
   "cell_type": "code",
   "execution_count": null,
   "metadata": {},
   "outputs": [],
   "source": []
  }
 ],
 "metadata": {
  "kernelspec": {
   "display_name": "Python 3",
   "language": "python",
   "name": "python3"
  },
  "language_info": {
   "codemirror_mode": {
    "name": "ipython",
    "version": 3
   },
   "file_extension": ".py",
   "mimetype": "text/x-python",
   "name": "python",
   "nbconvert_exporter": "python",
   "pygments_lexer": "ipython3",
   "version": "3.8.5"
  }
 },
 "nbformat": 4,
 "nbformat_minor": 4
}
