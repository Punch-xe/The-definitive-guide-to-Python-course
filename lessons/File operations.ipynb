{
 "cells": [
  {
   "cell_type": "code",
   "execution_count": 1,
   "metadata": {},
   "outputs": [
    {
     "data": {
      "text/plain": [
       "'C:\\\\Users\\\\Andrei\\\\Jupyter'"
      ]
     },
     "execution_count": 1,
     "metadata": {},
     "output_type": "execute_result"
    }
   ],
   "source": [
    "pwd"
   ]
  },
  {
   "cell_type": "code",
   "execution_count": 2,
   "metadata": {},
   "outputs": [
    {
     "name": "stdout",
     "output_type": "stream",
     "text": [
      "Overwriting sample.txt\n"
     ]
    }
   ],
   "source": [
    "%%writefile sample.txt\n",
    "name|phone\n",
    "Andrei;1234\n",
    "Olga;3486\n",
    "Pavel;1314"
   ]
  },
  {
   "cell_type": "code",
   "execution_count": 3,
   "metadata": {},
   "outputs": [
    {
     "data": {
      "text/plain": [
       "<_io.TextIOWrapper name='sample.txt' mode='r' encoding='cp1251'>"
      ]
     },
     "execution_count": 3,
     "metadata": {},
     "output_type": "execute_result"
    }
   ],
   "source": [
    "file = open('sample.txt')\n",
    "file"
   ]
  },
  {
   "cell_type": "code",
   "execution_count": 4,
   "metadata": {},
   "outputs": [
    {
     "name": "stdout",
     "output_type": "stream",
     "text": [
      "<class 'str'>\n",
      "name|phone\n",
      "Andrei;1234\n",
      "Olga;3486\n",
      "Pavel;1314\n",
      "\n"
     ]
    }
   ],
   "source": [
    "data = file.read()\n",
    "print(type(data))\n",
    "print(data)"
   ]
  },
  {
   "cell_type": "code",
   "execution_count": 5,
   "metadata": {},
   "outputs": [
    {
     "name": "stdout",
     "output_type": "stream",
     "text": [
      "\n"
     ]
    }
   ],
   "source": [
    "print(file.read())"
   ]
  },
  {
   "cell_type": "code",
   "execution_count": 6,
   "metadata": {},
   "outputs": [
    {
     "name": "stdout",
     "output_type": "stream",
     "text": [
      "name|phone\n",
      "Andrei;1234\n",
      "Olga;3486\n",
      "Pavel;1314\n",
      "\n"
     ]
    }
   ],
   "source": [
    "file.seek(0)\n",
    "print(file.read())"
   ]
  },
  {
   "cell_type": "code",
   "execution_count": 7,
   "metadata": {},
   "outputs": [
    {
     "data": {
      "text/plain": [
       "0"
      ]
     },
     "execution_count": 7,
     "metadata": {},
     "output_type": "execute_result"
    }
   ],
   "source": [
    "file.seek(0)"
   ]
  },
  {
   "cell_type": "code",
   "execution_count": 8,
   "metadata": {},
   "outputs": [
    {
     "name": "stdout",
     "output_type": "stream",
     "text": [
      "<class 'list'>\n",
      "['name|phone\\n', 'Andrei;1234\\n', 'Olga;3486\\n', 'Pavel;1314\\n']\n"
     ]
    }
   ],
   "source": [
    "lines = file.readlines()\n",
    "print(type(lines))\n",
    "print(lines)"
   ]
  },
  {
   "cell_type": "code",
   "execution_count": 9,
   "metadata": {},
   "outputs": [
    {
     "data": {
      "text/plain": [
       "4"
      ]
     },
     "execution_count": 9,
     "metadata": {},
     "output_type": "execute_result"
    }
   ],
   "source": [
    "len(lines)"
   ]
  },
  {
   "cell_type": "code",
   "execution_count": null,
   "metadata": {},
   "outputs": [],
   "source": []
  },
  {
   "cell_type": "code",
   "execution_count": 10,
   "metadata": {},
   "outputs": [
    {
     "name": "stdout",
     "output_type": "stream",
     "text": [
      "['name|phone\\n', 'Andrei;1234\\n', 'Olga;3486\\n', 'Pavel;1314\\n']\n"
     ]
    },
    {
     "data": {
      "text/plain": [
       "0"
      ]
     },
     "execution_count": 10,
     "metadata": {},
     "output_type": "execute_result"
    }
   ],
   "source": [
    "sample_file = open('C:\\\\Users\\\\Andrei\\\\Jupyter\\\\sample.txt')\n",
    "print(sample_file.readlines())\n",
    "sample_file.seek(0)"
   ]
  },
  {
   "cell_type": "code",
   "execution_count": 11,
   "metadata": {},
   "outputs": [
    {
     "name": "stdout",
     "output_type": "stream",
     "text": [
      "['name|phone\\n', 'Andrei;1234\\n', 'Olga;3486\\n', 'Pavel;1314\\n']\n"
     ]
    }
   ],
   "source": [
    "print(sample_file.readlines())\n"
   ]
  },
  {
   "cell_type": "code",
   "execution_count": 12,
   "metadata": {},
   "outputs": [
    {
     "name": "stdout",
     "output_type": "stream",
     "text": [
      "True\n",
      "True\n"
     ]
    }
   ],
   "source": [
    "file.close()\n",
    "sample_file.close()\n",
    "print(file.closed)\n",
    "print(sample_file.closed)"
   ]
  },
  {
   "cell_type": "code",
   "execution_count": 13,
   "metadata": {},
   "outputs": [
    {
     "name": "stdout",
     "output_type": "stream",
     "text": [
      "name|phone\n",
      "Andrei;1234\n",
      "Olga;3486\n",
      "Pavel;1314\n",
      "\n"
     ]
    }
   ],
   "source": [
    "with open ('sample.txt') as sample_file:\n",
    "    sample_data = sample_file.read()\n",
    "print(sample_data)"
   ]
  },
  {
   "cell_type": "code",
   "execution_count": 14,
   "metadata": {},
   "outputs": [
    {
     "name": "stdout",
     "output_type": "stream",
     "text": [
      "name|phone\n",
      "Andrei;1234\n",
      "Olga;3486\n",
      "Pavel;1314\n",
      "\n"
     ]
    }
   ],
   "source": [
    "with open ('sample.txt') as sample_file:\n",
    "    sample_data = sample_file.read()\n",
    "print(sample_data)"
   ]
  },
  {
   "cell_type": "code",
   "execution_count": 15,
   "metadata": {},
   "outputs": [],
   "source": [
    "with open ('sample.txt', mode='a') as sample_file:\n",
    "    sample_file.write('Oleg;2563')"
   ]
  },
  {
   "cell_type": "code",
   "execution_count": 16,
   "metadata": {},
   "outputs": [
    {
     "name": "stdout",
     "output_type": "stream",
     "text": [
      "name|phone\n",
      "Andrei;1234\n",
      "Olga;3486\n",
      "Pavel;1314\n",
      "Oleg;2563\n"
     ]
    }
   ],
   "source": [
    "with open ('sample.txt', mode='r') as sample_file:\n",
    "    print(sample_file.read())"
   ]
  },
  {
   "cell_type": "code",
   "execution_count": 17,
   "metadata": {},
   "outputs": [
    {
     "name": "stdout",
     "output_type": "stream",
     "text": [
      "name|phone\n",
      "Andrei;1234\n",
      "Olga;3486\n",
      "Pavel;1314\n",
      "Oleg;2563\n",
      "tan9;4758\n"
     ]
    }
   ],
   "source": [
    "with open ('sample.txt', mode='r+') as sample_file:\n",
    "    sample_file.seek(0,2)\n",
    "    sample_file.write('\\ntan9;4758')\n",
    "    sample_file.seek(0)\n",
    "    print(sample_file.read())"
   ]
  },
  {
   "cell_type": "code",
   "execution_count": 23,
   "metadata": {},
   "outputs": [
    {
     "name": "stdout",
     "output_type": "stream",
     "text": [
      "ararat\n"
     ]
    }
   ],
   "source": [
    "with open ('ararat.txt', mode='w+') as ararat_file:\n",
    "    ararat_file.write('ararat')\n",
    "    ararat_file.seek(0)\n",
    "    print(ararat_file.read())"
   ]
  },
  {
   "cell_type": "code",
   "execution_count": null,
   "metadata": {},
   "outputs": [],
   "source": []
  }
 ],
 "metadata": {
  "kernelspec": {
   "display_name": "Python 3",
   "language": "python",
   "name": "python3"
  },
  "language_info": {
   "codemirror_mode": {
    "name": "ipython",
    "version": 3
   },
   "file_extension": ".py",
   "mimetype": "text/x-python",
   "name": "python",
   "nbconvert_exporter": "python",
   "pygments_lexer": "ipython3",
   "version": "3.8.5"
  }
 },
 "nbformat": 4,
 "nbformat_minor": 4
}
