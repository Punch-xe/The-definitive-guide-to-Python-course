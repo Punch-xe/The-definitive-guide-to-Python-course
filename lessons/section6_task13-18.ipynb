{
 "cells": [
  {
   "cell_type": "code",
   "execution_count": 70,
   "metadata": {},
   "outputs": [],
   "source": [
    "class Name:\n",
    "    \n",
    "    def __init__(self, first_name, last_name):\n",
    "        self.first_name = first_name.title()\n",
    "        self.last_name = last_name.title()\n",
    "        self.full_name = self.first_name + ' ' + self.last_name\n",
    "        self.initials = self.first_name[0] + \".\" + self.last_name[0]\n",
    "            \n",
    "    def first_name(self, first_name):\n",
    "        return first_name\n",
    "    \n",
    "    def last_name(self, last_name):\n",
    "        return last_name\n",
    "    \n",
    "    def full_name(self, full_name):\n",
    "        return full_name\n",
    "    \n",
    "    def initials(self, initials):\n",
    "        return initials"
   ]
  },
  {
   "cell_type": "code",
   "execution_count": 71,
   "metadata": {},
   "outputs": [],
   "source": [
    "name = Name('john', 'SMITH')"
   ]
  },
  {
   "cell_type": "code",
   "execution_count": 72,
   "metadata": {},
   "outputs": [
    {
     "name": "stdout",
     "output_type": "stream",
     "text": [
      "John\n",
      "Smith\n",
      "John Smith\n",
      "J.S\n"
     ]
    }
   ],
   "source": [
    "print(name.first_name)\n",
    "print(name.last_name)\n",
    "print(name.full_name)\n",
    "print(name.initials)"
   ]
  },
  {
   "cell_type": "code",
   "execution_count": 85,
   "metadata": {},
   "outputs": [],
   "source": [
    "class Calculator:\n",
    "        \n",
    "    def add(self, a, b):\n",
    "        return a + b \n",
    "    \n",
    "    def subtract(self, a, b):\n",
    "        return a - b\n",
    "    \n",
    "    def multiply(self, a, b):\n",
    "        return a*b\n",
    "    \n",
    "    def divide(self, a, b):\n",
    "        return int(a / b)"
   ]
  },
  {
   "cell_type": "code",
   "execution_count": 86,
   "metadata": {},
   "outputs": [],
   "source": [
    "calc = Calculator()"
   ]
  },
  {
   "cell_type": "code",
   "execution_count": 87,
   "metadata": {},
   "outputs": [
    {
     "name": "stdout",
     "output_type": "stream",
     "text": [
      "6\n",
      "4\n",
      "5\n",
      "5\n"
     ]
    }
   ],
   "source": [
    "print(calc.add(5, 1))\n",
    "print(calc.subtract(5,1))\n",
    "print(calc.multiply(5,1))\n",
    "print(calc.divide(5,1))"
   ]
  },
  {
   "cell_type": "code",
   "execution_count": 99,
   "metadata": {},
   "outputs": [],
   "source": [
    "class Employee:\n",
    "    \n",
    "    def __init__(self, first_name, last_name, salary):\n",
    "        self.first_name = first_name\n",
    "        self.last_name = last_name\n",
    "        self.salary = salary\n",
    "    \n",
    "    @classmethod\n",
    "    def from_string(cls, str_to_pars):\n",
    "        #data = str_to_pars.split('-')\n",
    "        #return cls(data[0], data[1], int(data[2]))\n",
    "        first_name, last_name, salary = str_to_pars.split('-')\n",
    "        return cls(first_name, last_name, int(salary))"
   ]
  },
  {
   "cell_type": "code",
   "execution_count": 100,
   "metadata": {},
   "outputs": [],
   "source": [
    "emp1 = Employee('Mary', 'Sue', 60000)\n",
    "emp2 = Employee.from_string('John-Smith-55000')"
   ]
  },
  {
   "cell_type": "code",
   "execution_count": 102,
   "metadata": {},
   "outputs": [
    {
     "name": "stdout",
     "output_type": "stream",
     "text": [
      "Mary\n",
      "Sue\n",
      "60000\n",
      "John\n",
      "Smith\n",
      "55000\n"
     ]
    }
   ],
   "source": [
    "print(emp1.first_name)\n",
    "print(emp1.last_name)\n",
    "print(emp1.salary)\n",
    "print(emp2.first_name)\n",
    "print(emp2.last_name)\n",
    "print(emp2.salary)"
   ]
  },
  {
   "cell_type": "code",
   "execution_count": 121,
   "metadata": {},
   "outputs": [],
   "source": [
    "class Pizza:\n",
    "    order = 0\n",
    "    \n",
    "    def __init__(self, ingredients):\n",
    "        self.ingredients = ingredients\n",
    "        Pizza.order += 1\n",
    "        self.order_number = Pizza.order\n",
    "    \n",
    "    @classmethod\n",
    "    def hawaiian(cls):\n",
    "        return cls(['ham', 'pineapple'])\n",
    "    \n",
    "    @classmethod\n",
    "    def meat_festival(cls):\n",
    "        return cls(['beef', 'meatball', 'bacon'])\n",
    "    \n",
    "    @classmethod\n",
    "    def garden_feast(cls):\n",
    "        return cls(['spinach', 'olives', 'mushroom'])\n",
    "    \n",
    "    #def ingredients(self):\n",
    "        #return self.ingredients\n",
    "    \n",
    "    #def order_number(self):\n",
    "        #return self.order_number"
   ]
  },
  {
   "cell_type": "code",
   "execution_count": 122,
   "metadata": {},
   "outputs": [],
   "source": [
    "p1 = Pizza(['bacon', 'parmesan', 'ham'])\n",
    "p2 = Pizza.garden_feast()\n"
   ]
  },
  {
   "cell_type": "code",
   "execution_count": 125,
   "metadata": {},
   "outputs": [
    {
     "name": "stdout",
     "output_type": "stream",
     "text": [
      "['bacon', 'parmesan', 'ham']\n",
      "['spinach', 'olives', 'mushroom']\n",
      "1\n",
      "2\n"
     ]
    }
   ],
   "source": [
    "print(p1.ingredients)\n",
    "print(p2.ingredients)\n",
    "print(p1.order_number)\n",
    "print(p2.order_number)"
   ]
  },
  {
   "cell_type": "code",
   "execution_count": 10,
   "metadata": {},
   "outputs": [],
   "source": [
    "import math\n",
    "class Circle:\n",
    "    \n",
    "    def __init__(self, r=0):\n",
    "        self.r = r\n",
    "        \n",
    "    def get_area(self):\n",
    "        return math.pi*self.r**2\n",
    "    \n",
    "    def get_perimeter(self):\n",
    "        return 2*math.pi*self.r"
   ]
  },
  {
   "cell_type": "code",
   "execution_count": 15,
   "metadata": {},
   "outputs": [],
   "source": [
    "circle = Circle(10)\n",
    "area = circle.get_area()\n",
    "perimeter = circle.get_perimeter()"
   ]
  },
  {
   "cell_type": "code",
   "execution_count": 16,
   "metadata": {},
   "outputs": [
    {
     "data": {
      "text/plain": [
       "314.1592653589793"
      ]
     },
     "execution_count": 16,
     "metadata": {},
     "output_type": "execute_result"
    }
   ],
   "source": [
    "circle.get_area()"
   ]
  },
  {
   "cell_type": "code",
   "execution_count": 17,
   "metadata": {},
   "outputs": [
    {
     "data": {
      "text/plain": [
       "62.83185307179586"
      ]
     },
     "execution_count": 17,
     "metadata": {},
     "output_type": "execute_result"
    }
   ],
   "source": [
    "circle.get_perimeter()"
   ]
  },
  {
   "cell_type": "code",
   "execution_count": 23,
   "metadata": {},
   "outputs": [],
   "source": [
    "prices = {\"Strawberries\" : 1.5, \"Banana\" : 0.5, \"Mango\" : 2.5,\n",
    "        \"Blueberries\" : 1, \"Raspberries\" : 1, \"Apple\" : 1.75,\n",
    "        \"Pineapple\" : 3.5}\n",
    "\n",
    "class Beverage:\n",
    "    \n",
    "    def __init__(self, ingredients):\n",
    "        self.ingredients = ingredients\n",
    "        self.cost = sum([prices[fruit] for fruit in self.ingredients])\n",
    "        self.price = self.cost * 2.5\n",
    "        \n",
    "    def get_cost(self):\n",
    "        return f'${self.cost:.2f}' \n",
    "    \n",
    "    def get_price(self):\n",
    "        return f'${self.price:.2f}'\n",
    "        \n",
    "    def get_name(self):\n",
    "        lst = sorted([i.replace('ies', 'y') for i in self.ingredients])\n",
    "        return f'{\" \".join(lst)} {\"Fusion\" if len(lst) > 1 else \"Smoothie\"}'"
   ]
  },
  {
   "cell_type": "code",
   "execution_count": 25,
   "metadata": {},
   "outputs": [],
   "source": [
    "b1 = Beverage(['Banana'])\n"
   ]
  },
  {
   "cell_type": "code",
   "execution_count": 27,
   "metadata": {},
   "outputs": [
    {
     "name": "stdout",
     "output_type": "stream",
     "text": [
      "['Banana']\n",
      "$0.50\n",
      "$1.25\n",
      "Banana Smoothie\n"
     ]
    }
   ],
   "source": [
    "print(b1.ingredients)\n",
    "print(b1.get_cost())\n",
    "print(b1.get_price())\n",
    "print(b1.get_name())"
   ]
  },
  {
   "cell_type": "code",
   "execution_count": 30,
   "metadata": {},
   "outputs": [
    {
     "name": "stdout",
     "output_type": "stream",
     "text": [
      "['Banana', 'Strawberries', 'Blueberries', 'Apple']\n",
      "$4.75\n",
      "$11.88\n",
      "Apple Banana Blueberry Strawberry Fusion\n"
     ]
    }
   ],
   "source": [
    "b1 = Beverage(['Banana', 'Strawberries', 'Blueberries', 'Apple'])\n",
    "print(b1.ingredients)\n",
    "print(b1.get_cost())\n",
    "print(b1.get_price())\n",
    "print(b1.get_name())"
   ]
  },
  {
   "cell_type": "code",
   "execution_count": 31,
   "metadata": {},
   "outputs": [],
   "source": [
    "board = [' ', ' ', ' ',' ', ' ', ' ',' ', ' ', ' ']"
   ]
  },
  {
   "cell_type": "code",
   "execution_count": 33,
   "metadata": {},
   "outputs": [],
   "source": [
    "def print_state(state):\n",
    "    for i, c in enumerate(state):\n",
    "        if (i+1 ) % 3 == 0:\n",
    "            print(f'{c}')\n",
    "        else:\n",
    "            print(f'{c}|', end='')"
   ]
  },
  {
   "cell_type": "code",
   "execution_count": 34,
   "metadata": {},
   "outputs": [
    {
     "name": "stdout",
     "output_type": "stream",
     "text": [
      " | | \n",
      " | | \n",
      " | | \n"
     ]
    }
   ],
   "source": [
    "print_state(board)"
   ]
  },
  {
   "cell_type": "code",
   "execution_count": 35,
   "metadata": {},
   "outputs": [],
   "source": [
    "wining_combinations = [(0,1,2), (3,4,5), (6,7,8), (0,3,6), (1,4,7), (2,5,8), (0,4,8), (2,4,6)]"
   ]
  },
  {
   "cell_type": "code",
   "execution_count": 36,
   "metadata": {},
   "outputs": [],
   "source": [
    "def get_winner(state, combinations):\n",
    "    for (x,y,z) in combinations:\n",
    "        if state[x] == state[y] and state[y] == state[z] and (state[x] == 'X' or state[x] == 'O'):\n",
    "            return state[x]\n",
    "    return ''"
   ]
  },
  {
   "cell_type": "code",
   "execution_count": 37,
   "metadata": {},
   "outputs": [],
   "source": [
    "def play_game(board):\n",
    "    current_sign = 'X'\n",
    "    while(get_winner(board, wining_combinations) == ''):\n",
    "        index = int(input(f'Where do you want to draw {current_sign}?'))\n",
    "        board[index] = current_sign\n",
    "        print_state(board)\n",
    "        winer_sign = get_winner(board, wining_combinations)\n",
    "        if winer_sign != '':\n",
    "            print(f'We have a winner: {winer_sign}')\n",
    "        current_sign = 'X' if current_sign == 'O' else 'O'"
   ]
  },
  {
   "cell_type": "code",
   "execution_count": 38,
   "metadata": {},
   "outputs": [
    {
     "name": "stdout",
     "output_type": "stream",
     "text": [
      "Where do you want to draw X?0\n",
      "X| | \n",
      " | | \n",
      " | | \n",
      "Where do you want to draw O?1\n",
      "X|O| \n",
      " | | \n",
      " | | \n",
      "Where do you want to draw X?2\n",
      "X|O|X\n",
      " | | \n",
      " | | \n",
      "Where do you want to draw O?3\n",
      "X|O|X\n",
      "O| | \n",
      " | | \n",
      "Where do you want to draw X?4\n",
      "X|O|X\n",
      "O|X| \n",
      " | | \n",
      "Where do you want to draw O?8\n",
      "X|O|X\n",
      "O|X| \n",
      " | |O\n",
      "Where do you want to draw X?6\n",
      "X|O|X\n",
      "O|X| \n",
      "X| |O\n",
      "We have a winner: X\n"
     ]
    }
   ],
   "source": [
    "play_game(board)"
   ]
  },
  {
   "cell_type": "code",
   "execution_count": null,
   "metadata": {},
   "outputs": [],
   "source": []
  }
 ],
 "metadata": {
  "kernelspec": {
   "display_name": "Python 3",
   "language": "python",
   "name": "python3"
  },
  "language_info": {
   "codemirror_mode": {
    "name": "ipython",
    "version": 3
   },
   "file_extension": ".py",
   "mimetype": "text/x-python",
   "name": "python",
   "nbconvert_exporter": "python",
   "pygments_lexer": "ipython3",
   "version": "3.8.5"
  }
 },
 "nbformat": 4,
 "nbformat_minor": 4
}
