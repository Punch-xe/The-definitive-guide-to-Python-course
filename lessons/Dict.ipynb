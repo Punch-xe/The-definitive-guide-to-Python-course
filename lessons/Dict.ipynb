{
 "cells": [
  {
   "cell_type": "code",
   "execution_count": 1,
   "metadata": {},
   "outputs": [
    {
     "data": {
      "text/plain": [
       "{'noone': 1, 'nutail': 2, 'topson': 3, 'samuil': 4, 'miracle': 5}"
      ]
     },
     "execution_count": 1,
     "metadata": {},
     "output_type": "execute_result"
    }
   ],
   "source": [
    "players =   {\n",
    "                'noone':1,\n",
    "                'nutail':2,\n",
    "                'topson':3,\n",
    "                'samuil':4,\n",
    "                'miracle':5\n",
    "            }\n",
    "players\n"
   ]
  },
  {
   "cell_type": "code",
   "execution_count": 3,
   "metadata": {},
   "outputs": [
    {
     "name": "stdout",
     "output_type": "stream",
     "text": [
      "{'ramzes': 6, 'anna': 7, 'ame': 8, 'saksa': 9, 'gh': 10}\n"
     ]
    }
   ],
   "source": [
    "players1 = dict(ramzes=6, anna=7, ame=8, saksa=9, gh=10)\n",
    "print(players1)\n"
   ]
  },
  {
   "cell_type": "code",
   "execution_count": 28,
   "metadata": {},
   "outputs": [
    {
     "name": "stdout",
     "output_type": "stream",
     "text": [
      "noone is numbers 1\n",
      "nutail is numbers 2\n"
     ]
    }
   ],
   "source": [
    "top1 = players['noone']\n",
    "top2 = players.get('nutail')\n",
    "print(f'noone is numbers {top1}')\n",
    "print(f'nutail is numbers {top2}')"
   ]
  },
  {
   "cell_type": "code",
   "execution_count": 31,
   "metadata": {},
   "outputs": [
    {
     "name": "stdout",
     "output_type": "stream",
     "text": [
      "{'ramzes': 6, 'anna': 7, 'ame': 8, 'saksa': 9, 'gh': 10, 'andrei': 11}\n",
      "{'ramzes': 6, 'anna': 7, 'ame': 8, 'saksa': 9, 'gh': 10, 'andrei': 12}\n"
     ]
    }
   ],
   "source": [
    "players1['andrei'] = 11\n",
    "print(players1)\n",
    "players1['andrei'] = 12\n",
    "print(players1)"
   ]
  },
  {
   "cell_type": "code",
   "execution_count": 35,
   "metadata": {},
   "outputs": [
    {
     "data": {
      "text/plain": [
       "{'andrei': 1, 'oleg': 2, 'pavel': 3}"
      ]
     },
     "execution_count": 35,
     "metadata": {},
     "output_type": "execute_result"
    }
   ],
   "source": [
    "players2 = {\n",
    "    'andrei' : 1,\n",
    "    'oleg' : 2,\n",
    "    'pavel' : 3\n",
    "}\n",
    "players2"
   ]
  },
  {
   "cell_type": "code",
   "execution_count": 36,
   "metadata": {},
   "outputs": [
    {
     "name": "stdout",
     "output_type": "stream",
     "text": [
      "{'ramzes': 6, 'anna': 7, 'ame': 8, 'saksa': 9, 'gh': 10}\n"
     ]
    }
   ],
   "source": [
    "del players1['andrei']\n",
    "print(players1)"
   ]
  },
  {
   "cell_type": "code",
   "execution_count": 39,
   "metadata": {},
   "outputs": [
    {
     "name": "stdout",
     "output_type": "stream",
     "text": [
      "<class 'dict_keys'>\n",
      "dict_keys(['noone', 'nutail', 'topson', 'samuil', 'miracle'])\n"
     ]
    }
   ],
   "source": [
    "keys = players.keys()\n",
    "print(type(keys))\n",
    "print(keys)"
   ]
  },
  {
   "cell_type": "code",
   "execution_count": 40,
   "metadata": {},
   "outputs": [
    {
     "name": "stdout",
     "output_type": "stream",
     "text": [
      "<class 'list'>\n",
      "['noone', 'nutail', 'topson', 'samuil', 'miracle']\n"
     ]
    }
   ],
   "source": [
    "key_list = list(players.keys())\n",
    "print(type(key_list))\n",
    "print(key_list)"
   ]
  },
  {
   "cell_type": "code",
   "execution_count": 44,
   "metadata": {},
   "outputs": [
    {
     "name": "stdout",
     "output_type": "stream",
     "text": [
      "<class 'list'>\n",
      "['miracle', 'noone', 'nutail', 'samuil', 'topson']\n"
     ]
    }
   ],
   "source": [
    "key_newlist = sorted(players.keys())\n",
    "print(type(key_newlist))\n",
    "print(key_newlist)"
   ]
  },
  {
   "cell_type": "code",
   "execution_count": 47,
   "metadata": {},
   "outputs": [
    {
     "name": "stdout",
     "output_type": "stream",
     "text": [
      "True\n",
      "False\n",
      "True\n"
     ]
    }
   ],
   "source": [
    "print('noone' in key_newlist)\n",
    "print('noone' not in key_newlist)\n",
    "print('andrei' not in key_newlist)"
   ]
  },
  {
   "cell_type": "code",
   "execution_count": 48,
   "metadata": {},
   "outputs": [
    {
     "name": "stdout",
     "output_type": "stream",
     "text": [
      "<class 'dict_values'>\n",
      "dict_values([1, 2, 3, 4, 5])\n"
     ]
    }
   ],
   "source": [
    "values = players.values()\n",
    "print(type(values))\n",
    "print(values)"
   ]
  },
  {
   "cell_type": "code",
   "execution_count": 50,
   "metadata": {},
   "outputs": [
    {
     "name": "stdout",
     "output_type": "stream",
     "text": [
      "<class 'list'>\n",
      "[1, 2, 3, 4, 5]\n"
     ]
    }
   ],
   "source": [
    "values_list = list(players.values())\n",
    "print(type(values_list))\n",
    "print(values_list)\n",
    "                   "
   ]
  },
  {
   "cell_type": "code",
   "execution_count": 53,
   "metadata": {},
   "outputs": [
    {
     "name": "stdout",
     "output_type": "stream",
     "text": [
      "{'ramzes': 6, 'anna': 7, 'ame': 8, 'saksa': 9, 'gh': 10}\n"
     ]
    }
   ],
   "source": [
    "players1_copy = players1.copy()\n",
    "print(players1_copy)"
   ]
  },
  {
   "cell_type": "code",
   "execution_count": 56,
   "metadata": {},
   "outputs": [
    {
     "name": "stdout",
     "output_type": "stream",
     "text": [
      "ramzes 6\n",
      "anna 7\n",
      "ame 8\n",
      "saksa 9\n",
      "gh 10\n",
      "<class 'dict_items'>\n"
     ]
    }
   ],
   "source": [
    "for k, v in players1.items():\n",
    "    print(k,v)\n",
    "items = players1.items()\n",
    "print(type(items))"
   ]
  },
  {
   "cell_type": "code",
   "execution_count": 57,
   "metadata": {},
   "outputs": [
    {
     "name": "stdout",
     "output_type": "stream",
     "text": [
      "{'ramzes': 6, 'anna': 7, 'saksa': 9, 'gh': 10}\n"
     ]
    }
   ],
   "source": [
    "players1.pop('ame')\n",
    "print(players1)"
   ]
  },
  {
   "cell_type": "code",
   "execution_count": 59,
   "metadata": {},
   "outputs": [
    {
     "name": "stdout",
     "output_type": "stream",
     "text": [
      "('gh', 10)\n",
      "{'ramzes': 6, 'anna': 7, 'saksa': 9}\n",
      "{'noone': 1, 'nutail': 2, 'topson': 3, 'samuil': 4}\n"
     ]
    }
   ],
   "source": [
    "print(players1.popitem())\n",
    "print(players1)\n",
    "print(players)"
   ]
  },
  {
   "cell_type": "code",
   "execution_count": 60,
   "metadata": {},
   "outputs": [
    {
     "data": {
      "text/plain": [
       "3"
      ]
     },
     "execution_count": 60,
     "metadata": {},
     "output_type": "execute_result"
    }
   ],
   "source": [
    "len(players1)"
   ]
  },
  {
   "cell_type": "code",
   "execution_count": 61,
   "metadata": {},
   "outputs": [
    {
     "name": "stdout",
     "output_type": "stream",
     "text": [
      "{'ramzes': 6, 'anna': 7, 'saksa': 9, 'andrei Ch': None}\n"
     ]
    }
   ],
   "source": [
    "players1.setdefault('andrei Ch')\n",
    "print(players1)"
   ]
  },
  {
   "cell_type": "code",
   "execution_count": null,
   "metadata": {},
   "outputs": [],
   "source": []
  }
 ],
 "metadata": {
  "kernelspec": {
   "display_name": "Python 3",
   "language": "python",
   "name": "python3"
  },
  "language_info": {
   "codemirror_mode": {
    "name": "ipython",
    "version": 3
   },
   "file_extension": ".py",
   "mimetype": "text/x-python",
   "name": "python",
   "nbconvert_exporter": "python",
   "pygments_lexer": "ipython3",
   "version": "3.8.5"
  }
 },
 "nbformat": 4,
 "nbformat_minor": 4
}
