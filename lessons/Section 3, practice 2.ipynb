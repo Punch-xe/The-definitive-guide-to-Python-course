{
 "cells": [
  {
   "cell_type": "code",
   "execution_count": 26,
   "metadata": {},
   "outputs": [
    {
     "name": "stdout",
     "output_type": "stream",
     "text": [
      "Enter the limit:10\n",
      "[0, 3, 6, 9, 0, 5, 10]\n",
      "33\n"
     ]
    }
   ],
   "source": [
    "limit = int(input('Enter the limit:'))\n",
    "cur_sum = []\n",
    "for x in range(0,limit+1):\n",
    "    if x % 3 == 0:\n",
    "        cur_sum.append(x)\n",
    "for y in range(0,limit+1):\n",
    "    if y % 5 == 0:\n",
    "        cur_sum.append(y)\n",
    "print(cur_sum)\n",
    "print(sum(cur_sum))\n",
    "    \n",
    "      "
   ]
  },
  {
   "cell_type": "code",
   "execution_count": 40,
   "metadata": {
    "scrolled": true
   },
   "outputs": [
    {
     "name": "stdout",
     "output_type": "stream",
     "text": [
      "[1, 3, 5, 12, 14]\n"
     ]
    }
   ],
   "source": [
    "list1 = [1,2,3,4,5,6]\n",
    "list2 = [11,12,13,14,15]\n",
    "joined_list = []\n",
    "for x in list1:\n",
    "    if x % 2 != 0:\n",
    "        joined_list.append(x)\n",
    "for x in list2:\n",
    "    if x % 2 == 0:\n",
    "        joined_list.append(x)\n",
    "print(joined_list)"
   ]
  },
  {
   "cell_type": "markdown",
   "metadata": {},
   "source": []
  },
  {
   "cell_type": "code",
   "execution_count": 34,
   "metadata": {},
   "outputs": [
    {
     "name": "stdout",
     "output_type": "stream",
     "text": [
      "Enter the limit:10\n",
      "33\n"
     ]
    }
   ],
   "source": [
    "limit = int(input('Enter the limit:'))\n",
    "cur_sum = sum([x for x in range(0,limit+1) if x % 3 == 0 or x % 5 == 0])\n",
    "print(cur_sum)"
   ]
  },
  {
   "cell_type": "code",
   "execution_count": 42,
   "metadata": {},
   "outputs": [
    {
     "name": "stdout",
     "output_type": "stream",
     "text": [
      "[1, 3, 5, 12, 14]\n"
     ]
    }
   ],
   "source": [
    "list1 = [1,2,3,4,5]\n",
    "list2 = [11,12,13,14,15]\n",
    "joined_list1 = [x for x in list1 if x % 2 != 0]\n",
    "joined_list2 = [x for x in list2 if x % 2 == 0]\n",
    "joined_list = joined_list1 + joined_list2\n",
    "print(joined_list)"
   ]
  },
  {
   "cell_type": "code",
   "execution_count": 20,
   "metadata": {},
   "outputs": [
    {
     "name": "stdout",
     "output_type": "stream",
     "text": [
      "2\n"
     ]
    }
   ],
   "source": [
    "current_hand = [2,3,4,10,'Q',5]\n",
    "cards = {2: 1, 3: 1, 4: 1, 5: 1, 6: 1, 7: 0, 8: 0, 9: 0, 10: -1, 'J': -1, 'Q': -1, 'K': -1, 'A': -1}\n",
    "cards_sum = sum([cards[x] for x in current_hand])\n",
    "print(cards_sum)"
   ]
  },
  {
   "cell_type": "code",
   "execution_count": 29,
   "metadata": {},
   "outputs": [
    {
     "name": "stdout",
     "output_type": "stream",
     "text": [
      "Enter the limit:10\n",
      "Total sum is: 33\n"
     ]
    }
   ],
   "source": [
    "limit = int(input('Enter the limit:'))\n",
    "total_sum = 0\n",
    "for x in range(limit+1):\n",
    "    if x % 3 == 0 or x % 5 == 0:\n",
    "        total_sum +=x\n",
    "print(f'Total sum is: {total_sum}')\n",
    "\n",
    "            "
   ]
  },
  {
   "cell_type": "code",
   "execution_count": null,
   "metadata": {},
   "outputs": [],
   "source": []
  },
  {
   "cell_type": "code",
   "execution_count": null,
   "metadata": {},
   "outputs": [],
   "source": []
  },
  {
   "cell_type": "code",
   "execution_count": 19,
   "metadata": {},
   "outputs": [
    {
     "name": "stdout",
     "output_type": "stream",
     "text": [
      "2\n"
     ]
    }
   ],
   "source": [
    "current_hand = [2,3,4,10,'Q',5]\n",
    "cards = {2: 1, 3: 1, 4: 1, 5: 1, 6: 1, 7: 0, 8: 0, 9: 0, 10: -1, 'J': -1, 'Q': -1, 'K': -1, 'A': -1}\n",
    "cards_sum = sum([cards[x] for x in current_hand])\n",
    "print(cards_sum)"
   ]
  },
  {
   "cell_type": "code",
   "execution_count": null,
   "metadata": {},
   "outputs": [],
   "source": []
  }
 ],
 "metadata": {
  "kernelspec": {
   "display_name": "Python 3",
   "language": "python",
   "name": "python3"
  },
  "language_info": {
   "codemirror_mode": {
    "name": "ipython",
    "version": 3
   },
   "file_extension": ".py",
   "mimetype": "text/x-python",
   "name": "python",
   "nbconvert_exporter": "python",
   "pygments_lexer": "ipython3",
   "version": "3.8.5"
  }
 },
 "nbformat": 4,
 "nbformat_minor": 4
}
