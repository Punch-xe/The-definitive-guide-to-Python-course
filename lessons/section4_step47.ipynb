{
 "cells": [
  {
   "cell_type": "code",
   "execution_count": 6,
   "metadata": {},
   "outputs": [],
   "source": [
    "greeting = 'Hello from the global scope'\n",
    "\n",
    "def greet():\n",
    "    greeting = 'Hello from enclosing scope'\n",
    "    \n",
    "    def nested():\n",
    "        greeting = 'Hello from local scope'\n",
    "        print(greeting)\n",
    "    nested()"
   ]
  },
  {
   "cell_type": "code",
   "execution_count": 7,
   "metadata": {},
   "outputs": [
    {
     "name": "stdout",
     "output_type": "stream",
     "text": [
      "Hello from local scope\n",
      "Hello from the global scope\n"
     ]
    }
   ],
   "source": [
    "greet()\n",
    "print(greeting)"
   ]
  },
  {
   "cell_type": "code",
   "execution_count": 8,
   "metadata": {},
   "outputs": [],
   "source": [
    "greeting = 'Hello from the global scope'\n",
    "\n",
    "def greet(greeting):\n",
    "    print(f'Greet in func:{greeting}')\n",
    "    greeting = 'Hello from enclosing scope'\n",
    "    print(f'Greet in func:{greeting}')\n",
    "    def nested():\n",
    "        greeting = 'Hello from local scope'\n",
    "        print(greeting)\n",
    "    nested()"
   ]
  },
  {
   "cell_type": "code",
   "execution_count": 9,
   "metadata": {},
   "outputs": [
    {
     "name": "stdout",
     "output_type": "stream",
     "text": [
      "Greet in func:test\n",
      "Greet in func:Hello from enclosing scope\n",
      "Hello from local scope\n",
      "Hello from the global scope\n"
     ]
    }
   ],
   "source": [
    "greet('test')\n",
    "print(greeting)"
   ]
  },
  {
   "cell_type": "code",
   "execution_count": 11,
   "metadata": {},
   "outputs": [],
   "source": [
    "greeting = 'Hello from the global scope'\n",
    "\n",
    "def greet():\n",
    "    global greeting\n",
    "    print(f'Greet in func:{greeting}')\n",
    "    greeting = 'Hello from enclosing scope'\n",
    "    print(f'Greet in func:{greeting}')\n",
    "    def nested():\n",
    "        greeting = 'Hello from local scope'\n",
    "        print(greeting)\n",
    "    nested()"
   ]
  },
  {
   "cell_type": "code",
   "execution_count": 13,
   "metadata": {},
   "outputs": [
    {
     "name": "stdout",
     "output_type": "stream",
     "text": [
      "Greet in func:Hello from the global scope\n",
      "Greet in func:Hello from enclosing scope\n",
      "Hello from local scope\n",
      "Hello from enclosing scope\n"
     ]
    }
   ],
   "source": [
    "greet()\n",
    "print(greeting)"
   ]
  },
  {
   "cell_type": "code",
   "execution_count": null,
   "metadata": {},
   "outputs": [],
   "source": []
  }
 ],
 "metadata": {
  "kernelspec": {
   "display_name": "Python 3",
   "language": "python",
   "name": "python3"
  },
  "language_info": {
   "codemirror_mode": {
    "name": "ipython",
    "version": 3
   },
   "file_extension": ".py",
   "mimetype": "text/x-python",
   "name": "python",
   "nbconvert_exporter": "python",
   "pygments_lexer": "ipython3",
   "version": "3.8.5"
  }
 },
 "nbformat": 4,
 "nbformat_minor": 4
}
