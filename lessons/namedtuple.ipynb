{
 "cells": [
  {
   "cell_type": "code",
   "execution_count": 1,
   "metadata": {},
   "outputs": [
    {
     "name": "stdout",
     "output_type": "stream",
     "text": [
      "('ramzes', 1990, 1)\n"
     ]
    }
   ],
   "source": [
    "players = [('ramzes', 1990, 1), ('topson', 1991, 2), ('nutail', 1992, 3)]\n",
    "print(players[0])"
   ]
  },
  {
   "cell_type": "code",
   "execution_count": 5,
   "metadata": {},
   "outputs": [
    {
     "name": "stdout",
     "output_type": "stream",
     "text": [
      "player(name='ramzes', age=1990, rating=1)\n"
     ]
    }
   ],
   "source": [
    "from collections import namedtuple\n",
    "player = namedtuple('player', 'name age rating')\n",
    "players = [player ('ramzes', 1990, 1), player ('topson', 1991, 2), player ('nutail', 1992, 3)]\n",
    "print(players[0])"
   ]
  },
  {
   "cell_type": "code",
   "execution_count": 7,
   "metadata": {},
   "outputs": [
    {
     "data": {
      "text/plain": [
       "'ramzes'"
      ]
     },
     "execution_count": 7,
     "metadata": {},
     "output_type": "execute_result"
    }
   ],
   "source": [
    "players[0].name\n"
   ]
  },
  {
   "cell_type": "code",
   "execution_count": 9,
   "metadata": {},
   "outputs": [
    {
     "name": "stdout",
     "output_type": "stream",
     "text": [
      "ramzes\n",
      "1990\n",
      "1\n"
     ]
    }
   ],
   "source": [
    "p1 = player ('ramzes', 1990, 1)\n",
    "print(p1.name)\n",
    "print(p1.age)\n",
    "print(p1.rating)"
   ]
  },
  {
   "cell_type": "code",
   "execution_count": null,
   "metadata": {},
   "outputs": [],
   "source": []
  }
 ],
 "metadata": {
  "kernelspec": {
   "display_name": "Python 3",
   "language": "python",
   "name": "python3"
  },
  "language_info": {
   "codemirror_mode": {
    "name": "ipython",
    "version": 3
   },
   "file_extension": ".py",
   "mimetype": "text/x-python",
   "name": "python",
   "nbconvert_exporter": "python",
   "pygments_lexer": "ipython3",
   "version": "3.8.5"
  }
 },
 "nbformat": 4,
 "nbformat_minor": 4
}
