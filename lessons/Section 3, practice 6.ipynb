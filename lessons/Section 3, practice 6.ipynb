{
 "cells": [
  {
   "cell_type": "code",
   "execution_count": 22,
   "metadata": {},
   "outputs": [
    {
     "name": "stdout",
     "output_type": "stream",
     "text": [
      "['S', 'H', 'D', 'D', 'D']\n",
      "['D', 'D']\n",
      "['S', 'H', 'D', 'D', 'D', 'D', 'D']\n",
      "Flush!\n"
     ]
    }
   ],
   "source": [
    "table_cards = [\"A_S\", \"J_H\", \"7_D\", \"8_D\", \"10_D\"]\n",
    "hand_cards = [\"J_D\", \"3_D\"]\n",
    "\n",
    "\n",
    "table_suites = [x[-1] for x in table_cards]\n",
    "print(table_suites)\n",
    "hand_suites = [x[-1] for x in hand_cards]\n",
    "print(hand_suites)\n",
    "suites_in_game = table_suites + hand_suites\n",
    "print(suites_in_game)\n",
    "flush = False\n",
    "for suit in 'SHSD:':\n",
    "    if suites_in_game.count(suit) >= 5:\n",
    "        flush = True\n",
    "\n",
    "if flush:\n",
    "    print('Flush!')\n",
    "else:\n",
    "    print('No Flush!')\n"
   ]
  },
  {
   "cell_type": "code",
   "execution_count": 29,
   "metadata": {},
   "outputs": [
    {
     "name": "stdout",
     "output_type": "stream",
     "text": [
      "['S', 'H', 'D', 'D', 'D']\n",
      "['D', 'D']\n",
      "['S', 'H', 'D', 'D', 'D', 'D', 'D']\n",
      "Flush!\n"
     ]
    }
   ],
   "source": [
    "table_cards = [\"A_S\", \"J_H\", \"7_D\", \"8_D\", \"10_D\"]\n",
    "hand_cards = [\"J_D\", \"3_D\"]\n",
    "\n",
    "\n",
    "table_suites = [x[-1] for x in table_cards]\n",
    "print(table_suites)\n",
    "hand_suites = [x[-1] for x in hand_cards]\n",
    "print(hand_suites)\n",
    "suites_in_game = table_suites + hand_suites\n",
    "print(suites_in_game)\n",
    "\n",
    "\n",
    "flush = [flush for suit in 'SHSD' if suites_in_game.count(suit) >= 5]\n",
    "\n",
    "\n",
    "if flush:\n",
    "    print('Flush!')\n",
    "else:\n",
    "    print('No Flush!')\n"
   ]
  },
  {
   "cell_type": "code",
   "execution_count": 34,
   "metadata": {},
   "outputs": [
    {
     "name": "stdout",
     "output_type": "stream",
     "text": [
      "['S', 'H', 'D', 'D', 'D']\n",
      "['D', 'D']\n",
      "['S', 'H', 'D', 'D', 'D', 'D', 'D']\n",
      "Flush!\n"
     ]
    }
   ],
   "source": [
    "table_cards = [\"A_S\", \"J_H\", \"7_D\", \"8_D\", \"10_D\"]\n",
    "hand_cards = [\"J_D\", \"3_D\"]\n",
    "\n",
    "\n",
    "table_suites = [x[-1] for x in table_cards]\n",
    "print(table_suites)\n",
    "hand_suites = [x[-1] for x in hand_cards]\n",
    "print(hand_suites)\n",
    "suites_in_game = table_suites + hand_suites\n",
    "print(suites_in_game)\n",
    "\n",
    "\n",
    "flush = any([suites_in_game.count(suit) >= 5 for suit in 'SHSD'])\n",
    "\n",
    "\n",
    "if flush:\n",
    "    print('Flush!')\n",
    "else:\n",
    "    print('No Flush!')\n"
   ]
  },
  {
   "cell_type": "code",
   "execution_count": 45,
   "metadata": {},
   "outputs": [
    {
     "name": "stdout",
     "output_type": "stream",
     "text": [
      "No Flush!\n"
     ]
    }
   ],
   "source": [
    "table_cards = [\"A_S\", \"J_H\", \"7_D\", \"8_D\", \"10_D\"]\n",
    "hand_cards = [\"J_S\", \"3_D\"]\n",
    "\n",
    "flush = any([sum([card[-1] == suit for card in table_cards + hand_cards]) >= 5 for suit in 'SHSD'])\n",
    "\n",
    "if flush:\n",
    "    print('Flush!')\n",
    "else:\n",
    "    print('No Flush!')\n"
   ]
  },
  {
   "cell_type": "code",
   "execution_count": null,
   "metadata": {},
   "outputs": [],
   "source": []
  }
 ],
 "metadata": {
  "kernelspec": {
   "display_name": "Python 3",
   "language": "python",
   "name": "python3"
  },
  "language_info": {
   "codemirror_mode": {
    "name": "ipython",
    "version": 3
   },
   "file_extension": ".py",
   "mimetype": "text/x-python",
   "name": "python",
   "nbconvert_exporter": "python",
   "pygments_lexer": "ipython3",
   "version": "3.8.5"
  }
 },
 "nbformat": 4,
 "nbformat_minor": 4
}
