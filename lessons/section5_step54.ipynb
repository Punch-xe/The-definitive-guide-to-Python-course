{
 "cells": [
  {
   "cell_type": "code",
   "execution_count": null,
   "metadata": {},
   "outputs": [],
   "source": [
    "def divide(a, b):\n",
    "    try:\n",
    "        return a / b\n",
    "    except ZeroDivisionError as ex:\n",
    "            print(f'An Error occured: {ex}')"
   ]
  },
  {
   "cell_type": "code",
   "execution_count": 2,
   "metadata": {},
   "outputs": [
    {
     "data": {
      "text/plain": [
       "2.0"
      ]
     },
     "execution_count": 2,
     "metadata": {},
     "output_type": "execute_result"
    }
   ],
   "source": [
    "divide (4,2)"
   ]
  },
  {
   "cell_type": "code",
   "execution_count": 3,
   "metadata": {},
   "outputs": [
    {
     "name": "stdout",
     "output_type": "stream",
     "text": [
      "An Error occured: division by zero\n"
     ]
    }
   ],
   "source": [
    "divide(4,0)"
   ]
  },
  {
   "cell_type": "code",
   "execution_count": 4,
   "metadata": {},
   "outputs": [],
   "source": [
    "def divide(a, b):\n",
    "    try:\n",
    "        result = a / b\n",
    "        print('Result calculated')\n",
    "        return a / b\n",
    "    except ZeroDivisionError as ex:\n",
    "            print(f'An Error occured: {ex}')\n",
    "    except:\n",
    "        print('unknown error occured!')"
   ]
  },
  {
   "cell_type": "code",
   "execution_count": 5,
   "metadata": {},
   "outputs": [
    {
     "name": "stdout",
     "output_type": "stream",
     "text": [
      "An Error occured: division by zero\n"
     ]
    }
   ],
   "source": [
    "divide(4,0)"
   ]
  },
  {
   "cell_type": "code",
   "execution_count": 6,
   "metadata": {},
   "outputs": [
    {
     "name": "stdout",
     "output_type": "stream",
     "text": [
      "das\n",
      "unknown error occured!\n"
     ]
    }
   ],
   "source": [
    "divider = input()\n",
    "divide(4, divider)"
   ]
  },
  {
   "cell_type": "code",
   "execution_count": 7,
   "metadata": {},
   "outputs": [
    {
     "name": "stdout",
     "output_type": "stream",
     "text": [
      "Error has ocurred. Description No such file or directory\n",
      "Finally\n",
      "doing some work here\n"
     ]
    }
   ],
   "source": [
    "file = None\n",
    "try:\n",
    "    file = open(r'C:\\tmp\\abracadabra.txt')\n",
    "    data = file.read()\n",
    "except FileNotFoundError as ex:\n",
    "    print(f'Error has ocurred. Description {ex.strerror}')\n",
    "else:\n",
    "    print('maybe else')\n",
    "finally:\n",
    "    print('Finally')\n",
    "    if file:\n",
    "        file.close()\n",
    "print('doing some work here')"
   ]
  },
  {
   "cell_type": "code",
   "execution_count": 8,
   "metadata": {},
   "outputs": [
    {
     "name": "stdout",
     "output_type": "stream",
     "text": [
      "Enter a number....da\n",
      "Not a number! Try again.\n",
      "Enter a number....5\n",
      "5\n"
     ]
    }
   ],
   "source": [
    "def get_int():\n",
    "    while True:\n",
    "        try:\n",
    "            reply = int(input('Enter a number....'))\n",
    "            return reply\n",
    "        except:\n",
    "            print('Not a number! Try again.')\n",
    "            continue\n",
    "\n",
    "number = get_int()\n",
    "print(number)"
   ]
  },
  {
   "cell_type": "code",
   "execution_count": null,
   "metadata": {},
   "outputs": [],
   "source": []
  }
 ],
 "metadata": {
  "kernelspec": {
   "display_name": "Python 3",
   "language": "python",
   "name": "python3"
  },
  "language_info": {
   "codemirror_mode": {
    "name": "ipython",
    "version": 3
   },
   "file_extension": ".py",
   "mimetype": "text/x-python",
   "name": "python",
   "nbconvert_exporter": "python",
   "pygments_lexer": "ipython3",
   "version": "3.8.5"
  }
 },
 "nbformat": 4,
 "nbformat_minor": 4
}
