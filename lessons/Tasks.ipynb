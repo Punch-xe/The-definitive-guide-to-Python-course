{
 "cells": [
  {
   "cell_type": "code",
   "execution_count": 1,
   "metadata": {},
   "outputs": [
    {
     "name": "stdout",
     "output_type": "stream",
     "text": [
      "12\n"
     ]
    }
   ],
   "source": [
    "print(7+5)"
   ]
  },
  {
   "cell_type": "code",
   "execution_count": 7,
   "metadata": {},
   "outputs": [
    {
     "name": "stdout",
     "output_type": "stream",
     "text": [
      " \n"
     ]
    }
   ],
   "source": [
    "x = \"My name is Agent Smith\"\n",
    "print(x[2]) #y\n"
   ]
  },
  {
   "cell_type": "code",
   "execution_count": 30,
   "metadata": {},
   "outputs": [
    {
     "name": "stdout",
     "output_type": "stream",
     "text": [
      "I'm a student and I'll become a \"strong\" programmer\n",
      "C:\\Users\\GoodStudent\n"
     ]
    }
   ],
   "source": [
    "print(\"I'm a student and I'll become a \\\"strong\\\" programmer\") #I'm a student and I'll become a \"strong\" programmer\n",
    "print(\"C:\\\\Users\\\\GoodStudent\"'') #C:\\Users\\GoodStudent\n"
   ]
  },
  {
   "cell_type": "code",
   "execution_count": 14,
   "metadata": {},
   "outputs": [
    {
     "name": "stdout",
     "output_type": "stream",
     "text": [
      "hello\n"
     ]
    }
   ],
   "source": [
    "print('hello')"
   ]
  },
  {
   "cell_type": "code",
   "execution_count": 55,
   "metadata": {},
   "outputs": [
    {
     "name": "stdout",
     "output_type": "stream",
     "text": [
      "y\n",
      "nesgt\n"
     ]
    }
   ],
   "source": [
    "x = \"My name is Agent Smith\"\n",
    "print(x[1])\n",
    "print(x[3:16:3])\n",
    "\n"
   ]
  },
  {
   "cell_type": "code",
   "execution_count": 118,
   "metadata": {},
   "outputs": [
    {
     "name": "stdout",
     "output_type": "stream",
     "text": [
      "Введите количество чашек:15\n",
      "1\n"
     ]
    }
   ],
   "source": [
    "import math\n",
    "x_str = input('Введите количество чашек:')\n",
    "x = int(x_str)\n",
    "x_new = x/6\n",
    "if x_new < 1:\n",
    "    print('0') \n",
    "if x_new >= 1:\n",
    "    print('1') \n",
    "    \n",
    "\n",
    "\n",
    "\n",
    "\n",
    "\n",
    "\n"
   ]
  },
  {
   "cell_type": "code",
   "execution_count": null,
   "metadata": {},
   "outputs": [],
   "source": [
    "import math\n",
    "x1 = input('введите координату х первой точки')\n",
    "y1 = input('введите координату у первой точки')\n",
    "x2 = input('введите координату х второй точки')\n",
    "y2 = input('введите координату у второй точки')\n",
    "x1_int = int(x1)\n",
    "y1_int = int(y1)\n",
    "x2_int = int(x2)\n",
    "y2_int = int(y2)\n",
    "otvet1 = math.sqrt((x2_int-x1_int)**2+(y2_int-y1_int)**2)\n",
    "print(\"%.3f\" % otvet1)\n"
   ]
  },
  {
   "cell_type": "code",
   "execution_count": null,
   "metadata": {},
   "outputs": [],
   "source": [
    "import math\n",
    "t1 = input('введите количество кур')\n",
    "t2 = input('введите количество коров')\n",
    "t3 = input('введите количество свиней')\n",
    "t_1 = int(t1)\n",
    "t_2 = int(t2)\n",
    "t_3 = int(t3)\n",
    "t1new = t_1*2\n",
    "t2new = t_2*4\n",
    "t3new = t_3*4\n",
    "otvet3 = t1new + t2new + t3new\n",
    "print (otvet3)\n"
   ]
  },
  {
   "cell_type": "code",
   "execution_count": null,
   "metadata": {},
   "outputs": [],
   "source": []
  }
 ],
 "metadata": {
  "kernelspec": {
   "display_name": "Python 3",
   "language": "python",
   "name": "python3"
  },
  "language_info": {
   "codemirror_mode": {
    "name": "ipython",
    "version": 3
   },
   "file_extension": ".py",
   "mimetype": "text/x-python",
   "name": "python",
   "nbconvert_exporter": "python",
   "pygments_lexer": "ipython3",
   "version": "3.8.5"
  }
 },
 "nbformat": 4,
 "nbformat_minor": 4
}
