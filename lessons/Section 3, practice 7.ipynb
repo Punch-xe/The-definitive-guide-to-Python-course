{
 "cells": [
  {
   "cell_type": "code",
   "execution_count": null,
   "metadata": {},
   "outputs": [],
   "source": [
    "number = int(input('Enter a number'))\n",
    "\n",
    "reversed_number = 0\n",
    "tmp_number = number\n",
    "while tmp_number > 0:\n",
    "    reversed_number = (reversed_number * 10) + (tmp_number % 10)\n",
    "    tmp_number = tmp_number // 10\n",
    "if number == reversed_number:\n",
    "    print('Palindrome!')\n",
    "else:\n",
    "    print('Not palindrome!')"
   ]
  },
  {
   "cell_type": "code",
   "execution_count": null,
   "metadata": {},
   "outputs": [],
   "source": [
    "import random\n",
    "r =random.randint(1, 50)\n",
    "print(r)\n",
    "tmp_answer = 0\n",
    "i = 0\n",
    "while i < 7:\n",
    "    chances = -i + 5\n",
    "    number1 = int(input('Gues a number between 0 and 50:  '))\n",
    "    i += 1\n",
    "    if number1 == r:\n",
    "        print('You are right!')\n",
    "        break\n",
    "    elif number1 < r:\n",
    "        print(\"More!You have\" ,chances , 'chances')\n",
    "    elif number1 > r:\n",
    "        print(\"Less!You have\" ,chances , 'chances')\n",
    "    if i == 6:\n",
    "        print('You lose!')\n",
    "        break\n",
    "         \n",
    "  "
   ]
  },
  {
   "cell_type": "code",
   "execution_count": null,
   "metadata": {
    "scrolled": true
   },
   "outputs": [
    {
     "name": "stdout",
     "output_type": "stream",
     "text": [
      "Let's start a game. Insert R, S or P:  S\n",
      "PC choice is R\n",
      "You lose!\n"
     ]
    }
   ],
   "source": [
    "import random\n",
    "while True:\n",
    "    hand = input(\"Let's start a game. Insert R, S or P:  \")\n",
    "    if hand not in ['S','R','P']:\n",
    "        print('Insert S, P or R')\n",
    "        continue\n",
    "    bot_hand = 'SRP'\n",
    "    bot = random.choice(bot_hand)\n",
    "    print(\"PC choice is\", bot)\n",
    "    if hand == bot:\n",
    "        print('Dead heat!')\n",
    "        continue\n",
    "    if hand == 'R' and bot == 'S' or hand == 'S' and bot == 'P' or hand == \"P\" and bot == \"R\":\n",
    "        print('You win!')\n",
    "    else:\n",
    "        print('You lose!')\n",
    "    restart = input('Play again? Y or N?:  ')\n",
    "    if restart == 'N' or restart == 'n':\n",
    "        break\n",
    "    \n"
   ]
  },
  {
   "cell_type": "code",
   "execution_count": 1,
   "metadata": {},
   "outputs": [
    {
     "name": "stdout",
     "output_type": "stream",
     "text": [
      "723128532146\n"
     ]
    }
   ],
   "source": [
    "import math\n",
    "fun = lambda x : 1 if x == 1 else math.ceil(math.sinh(fun (x-1)))\n",
    "print(fun(5))"
   ]
  },
  {
   "cell_type": "code",
   "execution_count": null,
   "metadata": {},
   "outputs": [],
   "source": []
  }
 ],
 "metadata": {
  "kernelspec": {
   "display_name": "Python 3",
   "language": "python",
   "name": "python3"
  },
  "language_info": {
   "codemirror_mode": {
    "name": "ipython",
    "version": 3
   },
   "file_extension": ".py",
   "mimetype": "text/x-python",
   "name": "python",
   "nbconvert_exporter": "python",
   "pygments_lexer": "ipython3",
   "version": "3.8.5"
  }
 },
 "nbformat": 4,
 "nbformat_minor": 4
}
