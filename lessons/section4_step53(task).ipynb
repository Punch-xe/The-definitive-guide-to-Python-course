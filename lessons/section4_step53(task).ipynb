{
 "cells": [
  {
   "cell_type": "code",
   "execution_count": 1,
   "metadata": {},
   "outputs": [
    {
     "name": "stdout",
     "output_type": "stream",
     "text": [
      "How many sticks you take? Remaining 10\n",
      "3\n",
      "Sticks taken: 3\n",
      "\n",
      "How many sticks you take? Remaining 7\n",
      "3\n",
      "Sticks taken: 3\n",
      "\n",
      "How many sticks you take? Remaining 4\n",
      "4\n",
      "You tried to take 4. Allowed to take 1, 2 or 3 sticks\n",
      "How many sticks you take? Remaining 4\n",
      "2\n",
      "Sticks taken: 2\n",
      "\n",
      "How many sticks you take? Remaining 2\n",
      "1\n",
      "Sticks taken: 1\n",
      "\n",
      "How many sticks you take? Remaining 1\n",
      "1\n",
      "Sticks taken: 1\n",
      "\n",
      "No more sticks in the game.\n",
      "Player 1 has lost!\n"
     ]
    }
   ],
   "source": [
    "number_of_sticks = 10\n",
    "player_turn = 1\n",
    "\n",
    "while number_of_sticks > 0:\n",
    "    print(f'How many sticks you take? Remaining {number_of_sticks}')\n",
    "    taken = int(input())\n",
    "    \n",
    "    if taken <1 or taken > 3:\n",
    "        print(f'You tried to take {taken}. Allowed to take 1, 2 or 3 sticks')\n",
    "        continue\n",
    "    \n",
    "    number_of_sticks -=taken\n",
    "    print(f'Sticks taken: {taken}\\n')\n",
    "    \n",
    "    if number_of_sticks <= 0:\n",
    "        print(f'No more sticks in the game.\\nPlayer {player_turn} has lost!')\n",
    "        \n",
    "    player_turn = 1 if player_turn == 2 else 2"
   ]
  },
  {
   "cell_type": "code",
   "execution_count": 4,
   "metadata": {},
   "outputs": [
    {
     "name": "stdout",
     "output_type": "stream",
     "text": [
      "How many sticks you take? Remaining 10\n",
      "3\n",
      "Sticks taken: 3\n",
      "\n",
      "How many sticks you take? Remaining 7\n",
      "2\n",
      "Sticks taken: 2\n",
      "\n",
      "How many sticks you take? Remaining 5\n",
      "4\n",
      "You tried to take 4. Allowed to take 1, 2 or 3 sticks\n",
      "How many sticks you take? Remaining 5\n",
      "3\n",
      "Sticks taken: 3\n",
      "\n",
      "How many sticks you take? Remaining 2\n",
      "3\n",
      "Sticks taken: 3\n",
      "\n",
      "No more sticks in the game.\n",
      "Player 2 has lost!\n"
     ]
    }
   ],
   "source": [
    "number_of_sticks = 10\n",
    "player_turn = 1\n",
    "\n",
    "def can_take(sticks):\n",
    "    return sticks >= 1 and sticks <= 3\n",
    "\n",
    "def switch_player_turn(turn):\n",
    "    return 1 if player_turn == 2 else 2\n",
    "\n",
    "def end_of_the_game(sticks):\n",
    "    return number_of_sticks <= 0\n",
    "\n",
    "while (not end_of_the_game(number_of_sticks)):\n",
    "    print(f'How many sticks you take? Remaining {number_of_sticks}')\n",
    "    taken = int(input())\n",
    "    \n",
    "    if not can_take(taken):\n",
    "        print(f'You tried to take {taken}. Allowed to take 1, 2 or 3 sticks')\n",
    "        continue\n",
    "    \n",
    "    number_of_sticks -= taken\n",
    "    print(f'Sticks taken: {taken}\\n')\n",
    "    \n",
    "    if end_of_the_game(number_of_sticks):\n",
    "        print(f'No more sticks in the game.\\nPlayer {player_turn} has lost!')\n",
    "        break\n",
    "        \n",
    "    player_turn = switch_player_turn(player_turn) \n",
    "    "
   ]
  },
  {
   "cell_type": "markdown",
   "metadata": {},
   "source": []
  }
 ],
 "metadata": {
  "kernelspec": {
   "display_name": "Python 3",
   "language": "python",
   "name": "python3"
  },
  "language_info": {
   "codemirror_mode": {
    "name": "ipython",
    "version": 3
   },
   "file_extension": ".py",
   "mimetype": "text/x-python",
   "name": "python",
   "nbconvert_exporter": "python",
   "pygments_lexer": "ipython3",
   "version": "3.8.5"
  }
 },
 "nbformat": 4,
 "nbformat_minor": 4
}
